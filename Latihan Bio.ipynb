{
 "cells": [
  {
   "cell_type": "code",
   "execution_count": 6,
   "id": "e67095b2-ff75-4300-83a6-95d2aba7243a",
   "metadata": {
    "tags": []
   },
   "outputs": [
    {
     "name": "stdout",
     "output_type": "stream",
     "text": [
      "{'Count': '21', 'RetMax': '20', 'RetStart': '0', 'IdList': ['1381371043', '1379045984', '1282322290', '343791234', '933798787', '343791263', '343791262', '343791261', '343791260', '343791258', '343791256', '343791254', '343791252', '343791251', '343791249', '343791247', '343791245', '343791243', '343791242', '343791241'], 'TranslationSet': [{'From': 'Maylandia zebra', 'To': '\"Maylandia zebra\"[Organism] OR Maylandia zebra[All Fields]'}], 'TranslationStack': [{'Term': '\"Maylandia zebra\"[Organism]', 'Field': 'Organism', 'Count': '410420', 'Explode': 'Y'}, {'Term': 'Maylandia zebra[All Fields]', 'Field': 'All Fields', 'Count': '410584', 'Explode': 'N'}, 'OR', 'GROUP', {'Term': 'ptch1[All Fields]', 'Field': 'All Fields', 'Count': '2077', 'Explode': 'N'}, 'AND', 'GROUP'], 'QueryTranslation': '(\"Maylandia zebra\"[Organism] OR Maylandia zebra[All Fields]) AND ptch1[All Fields]'}\n"
     ]
    }
   ],
   "source": [
    "from Bio import Entrez\n",
    "\n",
    "Entrez.email = \"localuser@localhost.localdomain\" #Mandatory! Can be replaced with your personal email.\n",
    "\n",
    "#creating handle\n",
    "handle = Entrez.esearch(db=\"nuccore\", term=\"Maylandia zebra ptch1\")\n",
    "record = Entrez.read(handle)\n",
    "print(record)\n",
    "handle.close() #always close your handle after you finish"
   ]
  },
  {
   "cell_type": "code",
   "execution_count": 11,
   "id": "86432235-7784-44bb-835d-2a285f1182a9",
   "metadata": {},
   "outputs": [
    {
     "name": "stdout",
     "output_type": "stream",
     "text": [
      "LOCUS       JN037691                2827 bp    mRNA    linear   VRT 25-JUL-2016\n",
      "DEFINITION  Maylandia zebra patched 1 (Ptch1) mRNA, partial cds.\n",
      "ACCESSION   JN037691\n",
      "VERSION     JN037691.1\n",
      "KEYWORDS    .\n",
      "SOURCE      Maylandia zebra (zebra mbuna)\n",
      "  ORGANISM  Maylandia zebra\n",
      "            Eukaryota; Metazoa; Chordata; Craniata; Vertebrata; Euteleostomi;\n",
      "            Actinopterygii; Neopterygii; Teleostei; Neoteleostei;\n",
      "            Acanthomorphata; Ovalentaria; Cichlomorphae; Cichliformes;\n",
      "            Cichlidae; African cichlids; Pseudocrenilabrinae; Haplochromini;\n",
      "            Maylandia; Maylandia zebra complex.\n",
      "REFERENCE   1  (bases 1 to 2827)\n",
      "  AUTHORS   Roberts,R.B., Hu,Y., Albertson,R.C. and Kocher,T.D.\n",
      "  TITLE     Craniofacial divergence and ongoing adaptation via the hedgehog\n",
      "            pathway\n",
      "  JOURNAL   Proc. Natl. Acad. Sci. U.S.A. 108 (32), 13194-13199 (2011)\n",
      "   PUBMED   21788496\n",
      "REFERENCE   2  (bases 1 to 2827)\n",
      "  AUTHORS   Roberts,R.B., Hu,Y., Albertson,R.C. and Kocher,T.D.\n",
      "  TITLE     Direct Submission\n",
      "  JOURNAL   Submitted (27-MAY-2011) Biology, University of Maryland, 1210\n",
      "            Bio-Psych Bldg, College Park, MD 20742, USA\n",
      "FEATURES             Location/Qualifiers\n",
      "     source          1..2827\n",
      "                     /organism=\"Maylandia zebra\"\n",
      "                     /mol_type=\"mRNA\"\n",
      "                     /db_xref=\"taxon:106582\"\n",
      "     gene            1..>2827\n",
      "                     /gene=\"Ptch1\"\n",
      "     CDS             104..>2827\n",
      "                     /gene=\"Ptch1\"\n",
      "                     /codon_start=1\n",
      "                     /product=\"patched 1\"\n",
      "                     /protein_id=\"AEM61158.1\"\n",
      "                     /translation=\"MASAGNAPSEQENRDPDRPRITRRNRGDYTRNTPLDLEYLQRPS\n",
      "                     YCDAGFALEQISEGKATGRKAPLWLRAKFQRLLFRLGCYIQKNCGKFLVVGLMIFGAF\n",
      "                     AVGLRAANLETDVEKLWVEVGGRVNQELKYTRQKIGEEAMFTPQLMIQTPREEGANVL\n",
      "                     TVEALLQHLESAIRASRVHVYLYNRQWKLEDLCYKSGEVVTETHHLNQIIERLHPCLI\n",
      "                     ITPLDCFWEGAKLQPGTGYLPGKGLVQWTNFDPKEFLEELPQQNHVEIFEEMLEKADI\n",
      "                     GHGYMDRPCLNPADPDCPRTAPNKNSTKPFDVARALSGGCHGLARKYMHWQEELIVGG\n",
      "                     TTKNGSGPLLSAQALQTIFQLMTPKQMFEHFRGYDEVSHINWNEEKAAAILEAWQRRY\n",
      "                     SEAVQHSVSANSSQKVLSFTTTTLEDILKSFSDISVIRVASGYLLMLAYACLTMLRWD\n",
      "                     CAKSQGAVGLAGVLLVTLSVAAGLGLCSLLGISFNAATTQVLPFLALGVGVDDVFLLA\n",
      "                     HAFSETGQNKRIPFEDRTGECLKRTGASVALTSISNVTAFFMAALIPIPALRAFSLQA\n",
      "                     AVVVVFNFAMVLLIFPAILSMDLYRREDRRFDIFCCFYSPCSNRVIQIEPQAYLDGTE\n",
      "                     GSRYSPSPSYRTPPPSYHMPPPSYSSPPPSYSSHGFAQQTQITMQSTVQLRTEYDPRT\n",
      "                     QAFYTTAEPRSQISVQPINPAPARTNRNNEYYSSSNHANISNNNNSGGLNNGGSRGSA\n",
      "                     SFSHHHHPAPPPAASTPSASSVAQGDGASSTGQSPENNSSTRDLLSQIGEASLGLRCL\n",
      "                     KPPCSRWTLASFAEKHYAPFLLQPTTKVVVIVLFLCLLGVSLYGTTQVRDGLELTDIV\n",
      "                     PRETSEYDFLGAQFKFFSFYNMYVVTQRADYAQNQPLLHQLHQRFHTIRYVL\"\n",
      "ORIGIN      \n",
      "        1 gggtgtgaga tctccgagag tgaaactctg ttctcttggg atatcgctac acgctttcgg\n",
      "       61 ggaaatacta taaagtggga aaccatatcg ctgtccccgc aacatggcct cggctggtaa\n",
      "      121 tgcgccctcc gagcaggaaa acagagaccc cgatcggccg aggataacgc ggaggaacag\n",
      "      181 gggggactat acccgcaaca caccgctgga tttggagtat ttgcagcggc cgagttactg\n",
      "      241 cgatgcgggc tttgctctgg agcagatttc agaggggaag gcaactggga ggaaagcacc\n",
      "      301 tctgtggctg agagcgaagt tccagagact tttatttagg ctgggctgtt acattcaaaa\n",
      "      361 gaactgcgga aagtttttgg ttgttggcct catgattttt ggagcttttg ctgtgggctt\n",
      "      421 acgggcagct aatttggaaa cggatgtgga gaaactctgg gtggaagttg gcgggcgtgt\n",
      "      481 gaaccaggaa ctcaagtata caagacagaa gataggcgag gaggccatgt ttacccctca\n",
      "      541 gctgatgatc cagacgccgc gggaggaggg agccaatgtt ctaactgtgg aggcgctcct\n",
      "      601 gcagcacctg gagtcagcta tccgagccag cagagttcat gtttaccttt ataacagaca\n",
      "      661 atggaaatta gaagacttat gctacaaatc aggggaagta gtcacagaaa cacatcacct\n",
      "      721 gaatcagatc atagaaaggc tacatccctg cctcatcatc acacctttgg actgcttctg\n",
      "      781 ggagggggct aagctccagc ctggaacagg ctatctccca ggcaaaggac ttgtgcagtg\n",
      "      841 gaccaatttt gaccctaagg aattccttga ggagttgcca cagcaaaacc acgtggaaat\n",
      "      901 ctttgaggag atgttagaaa aagcggacat tgggcacggc tacatggata gaccctgcct\n",
      "      961 gaacccagcc gatcctgact gcccccgcac cgcgcccaat aagaactcga ctaagccatt\n",
      "     1021 cgatgtggca cgggctctga gtggaggctg ccatggtctg gccaggaagt acatgcactg\n",
      "     1081 gcaggaggaa ctgattgttg gagggaccac caagaatggc agcggacccc tgctcagtgc\n",
      "     1141 ccaggccttg cagaccatct tccagctgat gactcccaag cagatgtttg agcactttcg\n",
      "     1201 gggctacgat gaggtttccc acatcaactg gaatgaagaa aaggctgcag ctatacttga\n",
      "     1261 agcctggcag aggcggtact ctgaggcggt gcagcacagc gtgtcagcaa actcgtctca\n",
      "     1321 gaaggtctta tctttcacaa ccaccactct ggaagatatt ctcaagtctt tttcggacat\n",
      "     1381 aagtgttatc cgcgtggcca gtgggtacct tctgatgctg gcctatgcat gcctgaccat\n",
      "     1441 gctgcgatgg gactgtgcca agtctcaggg ggctgtgggg ctggcaggtg tcctcytggt\n",
      "     1501 gacgttgtca gtggcagctg gtttgggcct ctgctccctc ctgggcattt ccttcaatgc\n",
      "     1561 tgccactacg caggtgcttc cctttttggc tctgggagtt ggagtagatg atgtgtttct\n",
      "     1621 cctcgcccat gccttcagtg agaccgggca aaacaagagg atcccattcg aggatcgcac\n",
      "     1681 gggggagtgt ctgaagagga caggggccag tgtggctctt acctccatca gcaacgtcac\n",
      "     1741 agcattcttc atggcagcgc tcatccccat cccagcgctc agagcctttt ctctacaggc\n",
      "     1801 tgcagtggtg gtggtgttta actttgccat ggtactgctc atctttcctg ccatcctcag\n",
      "     1861 catggatctc tatcggcgag aggacaggcg ttttgacatt ttctgctgct tctacagccc\n",
      "     1921 ttgttccaat cgtgtgattc agatagagcc acaggcgtac ctggatggga cagaagggag\n",
      "     1981 tcgctacagc ccttccccgt catatcgtac ccctcctccc tcatatcaca tgcctccccc\n",
      "     2041 aagctacagc agtccccctc cttcctacag tagccatggt tttgctcagc agacccaaat\n",
      "     2101 cactatgcag tccacagtgc agctcaggac ggagtacgac ccccgaactc aggccttcta\n",
      "     2161 caccacagct gagcccagat cccaaatctc tgtgcagccc atcaacccag ctccagctag\n",
      "     2221 gaccaaccgt aacaacgagt attacagtag cagcaatcac gccaacatca gcaacaacaa\n",
      "     2281 caacagtggg ggcttgaata atggggggtc tcgaggttct gccagcttct cccatcatca\n",
      "     2341 tcatcccgca cctcctcctg ctgcatcgac cccaagtgct agctcagttg ctcagggtga\n",
      "     2401 tggagcctca tcgactggcc agagtccaga gaacaacagc tccacacggg acctgttgtc\n",
      "     2461 ccagattgga gaagcctcgc tgggcctacg ctgcctcaag cccccctgct cgcgctggac\n",
      "     2521 cctggcctct tttgctgaga agcactatgc gccattcctt ctgcagccca ccaccaaggt\n",
      "     2581 ggttgtgatt gtgctgttcc tctgcctgct gggagtcagt ttatacggga ccacccaagt\n",
      "     2641 gagggacggc ctggagctga cagatattgt accaagggag acaagcgagt acgactttct\n",
      "     2701 cggcgcccag ttcaagttct tctccttcta caacatgtat gtggtaacac agcgcgccga\n",
      "     2761 ttatgctcaa aaccagccac tgcttcacca gctccaccag aggttccaca ccattcgcta\n",
      "     2821 cgtgctg\n",
      "//\n",
      "\n",
      "\n"
     ]
    }
   ],
   "source": [
    "efetch_handle = Entrez.efetch(db=\"nuccore\", id=\"JN037691.1\", rettype=\"gb\", retmode=\"text\")\n",
    "gbrecord = efetch_handle.read()\n",
    "print(gbrecord)\n",
    "efetch_handle.close() #always close your handle after you finish"
   ]
  },
  {
   "cell_type": "code",
   "execution_count": 13,
   "id": "c7d7ab6b-afb2-44e8-8ac5-bd3a75cea55d",
   "metadata": {},
   "outputs": [
    {
     "name": "stdout",
     "output_type": "stream",
     "text": [
      ">JN037691.1 Maylandia zebra patched 1 (Ptch1) mRNA, partial cds\n",
      "GGGTGTGAGATCTCCGAGAGTGAAACTCTGTTCTCTTGGGATATCGCTACACGCTTTCGGGGAAATACTA\n",
      "TAAAGTGGGAAACCATATCGCTGTCCCCGCAACATGGCCTCGGCTGGTAATGCGCCCTCCGAGCAGGAAA\n",
      "ACAGAGACCCCGATCGGCCGAGGATAACGCGGAGGAACAGGGGGGACTATACCCGCAACACACCGCTGGA\n",
      "TTTGGAGTATTTGCAGCGGCCGAGTTACTGCGATGCGGGCTTTGCTCTGGAGCAGATTTCAGAGGGGAAG\n",
      "GCAACTGGGAGGAAAGCACCTCTGTGGCTGAGAGCGAAGTTCCAGAGACTTTTATTTAGGCTGGGCTGTT\n",
      "ACATTCAAAAGAACTGCGGAAAGTTTTTGGTTGTTGGCCTCATGATTTTTGGAGCTTTTGCTGTGGGCTT\n",
      "ACGGGCAGCTAATTTGGAAACGGATGTGGAGAAACTCTGGGTGGAAGTTGGCGGGCGTGTGAACCAGGAA\n",
      "CTCAAGTATACAAGACAGAAGATAGGCGAGGAGGCCATGTTTACCCCTCAGCTGATGATCCAGACGCCGC\n",
      "GGGAGGAGGGAGCCAATGTTCTAACTGTGGAGGCGCTCCTGCAGCACCTGGAGTCAGCTATCCGAGCCAG\n",
      "CAGAGTTCATGTTTACCTTTATAACAGACAATGGAAATTAGAAGACTTATGCTACAAATCAGGGGAAGTA\n",
      "GTCACAGAAACACATCACCTGAATCAGATCATAGAAAGGCTACATCCCTGCCTCATCATCACACCTTTGG\n",
      "ACTGCTTCTGGGAGGGGGCTAAGCTCCAGCCTGGAACAGGCTATCTCCCAGGCAAAGGACTTGTGCAGTG\n",
      "GACCAATTTTGACCCTAAGGAATTCCTTGAGGAGTTGCCACAGCAAAACCACGTGGAAATCTTTGAGGAG\n",
      "ATGTTAGAAAAAGCGGACATTGGGCACGGCTACATGGATAGACCCTGCCTGAACCCAGCCGATCCTGACT\n",
      "GCCCCCGCACCGCGCCCAATAAGAACTCGACTAAGCCATTCGATGTGGCACGGGCTCTGAGTGGAGGCTG\n",
      "CCATGGTCTGGCCAGGAAGTACATGCACTGGCAGGAGGAACTGATTGTTGGAGGGACCACCAAGAATGGC\n",
      "AGCGGACCCCTGCTCAGTGCCCAGGCCTTGCAGACCATCTTCCAGCTGATGACTCCCAAGCAGATGTTTG\n",
      "AGCACTTTCGGGGCTACGATGAGGTTTCCCACATCAACTGGAATGAAGAAAAGGCTGCAGCTATACTTGA\n",
      "AGCCTGGCAGAGGCGGTACTCTGAGGCGGTGCAGCACAGCGTGTCAGCAAACTCGTCTCAGAAGGTCTTA\n",
      "TCTTTCACAACCACCACTCTGGAAGATATTCTCAAGTCTTTTTCGGACATAAGTGTTATCCGCGTGGCCA\n",
      "GTGGGTACCTTCTGATGCTGGCCTATGCATGCCTGACCATGCTGCGATGGGACTGTGCCAAGTCTCAGGG\n",
      "GGCTGTGGGGCTGGCAGGTGTCCTCYTGGTGACGTTGTCAGTGGCAGCTGGTTTGGGCCTCTGCTCCCTC\n",
      "CTGGGCATTTCCTTCAATGCTGCCACTACGCAGGTGCTTCCCTTTTTGGCTCTGGGAGTTGGAGTAGATG\n",
      "ATGTGTTTCTCCTCGCCCATGCCTTCAGTGAGACCGGGCAAAACAAGAGGATCCCATTCGAGGATCGCAC\n",
      "GGGGGAGTGTCTGAAGAGGACAGGGGCCAGTGTGGCTCTTACCTCCATCAGCAACGTCACAGCATTCTTC\n",
      "ATGGCAGCGCTCATCCCCATCCCAGCGCTCAGAGCCTTTTCTCTACAGGCTGCAGTGGTGGTGGTGTTTA\n",
      "ACTTTGCCATGGTACTGCTCATCTTTCCTGCCATCCTCAGCATGGATCTCTATCGGCGAGAGGACAGGCG\n",
      "TTTTGACATTTTCTGCTGCTTCTACAGCCCTTGTTCCAATCGTGTGATTCAGATAGAGCCACAGGCGTAC\n",
      "CTGGATGGGACAGAAGGGAGTCGCTACAGCCCTTCCCCGTCATATCGTACCCCTCCTCCCTCATATCACA\n",
      "TGCCTCCCCCAAGCTACAGCAGTCCCCCTCCTTCCTACAGTAGCCATGGTTTTGCTCAGCAGACCCAAAT\n",
      "CACTATGCAGTCCACAGTGCAGCTCAGGACGGAGTACGACCCCCGAACTCAGGCCTTCTACACCACAGCT\n",
      "GAGCCCAGATCCCAAATCTCTGTGCAGCCCATCAACCCAGCTCCAGCTAGGACCAACCGTAACAACGAGT\n",
      "ATTACAGTAGCAGCAATCACGCCAACATCAGCAACAACAACAACAGTGGGGGCTTGAATAATGGGGGGTC\n",
      "TCGAGGTTCTGCCAGCTTCTCCCATCATCATCATCCCGCACCTCCTCCTGCTGCATCGACCCCAAGTGCT\n",
      "AGCTCAGTTGCTCAGGGTGATGGAGCCTCATCGACTGGCCAGAGTCCAGAGAACAACAGCTCCACACGGG\n",
      "ACCTGTTGTCCCAGATTGGAGAAGCCTCGCTGGGCCTACGCTGCCTCAAGCCCCCCTGCTCGCGCTGGAC\n",
      "CCTGGCCTCTTTTGCTGAGAAGCACTATGCGCCATTCCTTCTGCAGCCCACCACCAAGGTGGTTGTGATT\n",
      "GTGCTGTTCCTCTGCCTGCTGGGAGTCAGTTTATACGGGACCACCCAAGTGAGGGACGGCCTGGAGCTGA\n",
      "CAGATATTGTACCAAGGGAGACAAGCGAGTACGACTTTCTCGGCGCCCAGTTCAAGTTCTTCTCCTTCTA\n",
      "CAACATGTATGTGGTAACACAGCGCGCCGATTATGCTCAAAACCAGCCACTGCTTCACCAGCTCCACCAG\n",
      "AGGTTCCACACCATTCGCTACGTGCTG\n",
      "\n",
      "\n"
     ]
    }
   ],
   "source": [
    "efetch_handle = Entrez.efetch(db=\"nuccore\", id=\"JN037691.1\", rettype=\"fasta\", retmode=\"text\")\n",
    "fasta_record = efetch_handle.read()\n",
    "print(fasta_record)\n",
    "efetch_handle.close() #always close your handle after you finish"
   ]
  },
  {
   "cell_type": "code",
   "execution_count": 16,
   "id": "abf08a29-b0b9-41f2-8eb0-45eb70bb6763",
   "metadata": {},
   "outputs": [
    {
     "name": "stdout",
     "output_type": "stream",
     "text": [
      "FASTA Download\n"
     ]
    }
   ],
   "source": [
    "import os \n",
    "\n",
    "#creating EFetch handle\n",
    "filename = \"Ptch1 Maylandia zebra.fasta\" #up to you, but FASTA files always use *.fasta or *.fas \n",
    "\n",
    "#creating EFetch handle\n",
    "if not os.path.isfile(filename):\n",
    "    # Downloading file...\n",
    "    efetch_handle = Entrez.efetch(db=\"nuccore\", id=\"JN037691.1\", rettype=\"fasta\", retmode=\"text\")\n",
    "    output_file_handle = open(filename, \"w\")\n",
    "    output_file_handle.write(efetch_handle.read())\n",
    "    output_file_handle.close()\n",
    "    efetch_handle.close()\n",
    "    print(\"FASTA Download\")"
   ]
  },
  {
   "cell_type": "code",
   "execution_count": 17,
   "id": "5dc5846c-3fcb-4bf8-8e8a-be362b469c69",
   "metadata": {},
   "outputs": [
    {
     "name": "stdout",
     "output_type": "stream",
     "text": [
      "GB Downloaded\n"
     ]
    }
   ],
   "source": [
    "#creating EFetch handle\n",
    "filename = \"Maylandia zebra Ptch1.gbk\" #up to you, but Genbank files always use *.gb or *.gbk \n",
    "\n",
    "#creating EFetch handle\n",
    "if not os.path.isfile(filename):\n",
    "    # Downloading file...\n",
    "    efetch_handle = Entrez.efetch(db=\"nuccore\", id=\"JN037691.1\", rettype=\"gb\", retmode=\"text\")\n",
    "    output_file_handle = open(filename, \"w\")\n",
    "    output_file_handle.write(efetch_handle.read())\n",
    "    output_file_handle.close()\n",
    "    efetch_handle.close()\n",
    "    print(\"GB Downloaded\")"
   ]
  },
  {
   "cell_type": "code",
   "execution_count": 6,
   "id": "964c1032-95b1-44f0-86b8-90455e73e939",
   "metadata": {},
   "outputs": [
    {
     "name": "stdout",
     "output_type": "stream",
     "text": [
      ">Ptch1|Maylandia zebra patched 1 (Ptch1) mRNA, partial cds\n",
      "ATGGCCTCGGCTGGTAATGCGCCCTCCGAGCAGGAAAACAGAGACCCCGATCGGCCGAGGATAACGCGGAGGAACAGGGGGGACTATACCCGCAACACACCGCTGGATTTGGAGTATTTGCAGCGGCCGAGTTACTGCGATGCGGGCTTTGCTCTGGAGCAGATTTCAGAGGGGAAGGCAACTGGGAGGAAAGCACCTCTGTGGCTGAGAGCGAAGTTCCAGAGACTTTTATTTAGGCTGGGCTGTTACATTCAAAAGAACTGCGGAAAGTTTTTGGTTGTTGGCCTCATGATTTTTGGAGCTTTTGCTGTGGGCTTACGGGCAGCTAATTTGGAAACGGATGTGGAGAAACTCTGGGTGGAAGTTGGCGGGCGTGTGAACCAGGAACTCAAGTATACAAGACAGAAGATAGGCGAGGAGGCCATGTTTACCCCTCAGCTGATGATCCAGACGCCGCGGGAGGAGGGAGCCAATGTTCTAACTGTGGAGGCGCTCCTGCAGCACCTGGAGTCAGCTATCCGAGCCAGCAGAGTTCATGTTTACCTTTATAACAGACAATGGAAATTAGAAGACTTATGCTACAAATCAGGGGAAGTAGTCACAGAAACACATCACCTGAATCAGATCATAGAAAGGCTACATCCCTGCCTCATCATCACACCTTTGGACTGCTTCTGGGAGGGGGCTAAGCTCCAGCCTGGAACAGGCTATCTCCCAGGCAAAGGACTTGTGCAGTGGACCAATTTTGACCCTAAGGAATTCCTTGAGGAGTTGCCACAGCAAAACCACGTGGAAATCTTTGAGGAGATGTTAGAAAAAGCGGACATTGGGCACGGCTACATGGATAGACCCTGCCTGAACCCAGCCGATCCTGACTGCCCCCGCACCGCGCCCAATAAGAACTCGACTAAGCCATTCGATGTGGCACGGGCTCTGAGTGGAGGCTGCCATGGTCTGGCCAGGAAGTACATGCACTGGCAGGAGGAACTGATTGTTGGAGGGACCACCAAGAATGGCAGCGGACCCCTGCTCAGTGCCCAGGCCTTGCAGACCATCTTCCAGCTGATGACTCCCAAGCAGATGTTTGAGCACTTTCGGGGCTACGATGAGGTTTCCCACATCAACTGGAATGAAGAAAAGGCTGCAGCTATACTTGAAGCCTGGCAGAGGCGGTACTCTGAGGCGGTGCAGCACAGCGTGTCAGCAAACTCGTCTCAGAAGGTCTTATCTTTCACAACCACCACTCTGGAAGATATTCTCAAGTCTTTTTCGGACATAAGTGTTATCCGCGTGGCCAGTGGGTACCTTCTGATGCTGGCCTATGCATGCCTGACCATGCTGCGATGGGACTGTGCCAAGTCTCAGGGGGCTGTGGGGCTGGCAGGTGTCCTCYTGGTGACGTTGTCAGTGGCAGCTGGTTTGGGCCTCTGCTCCCTCCTGGGCATTTCCTTCAATGCTGCCACTACGCAGGTGCTTCCCTTTTTGGCTCTGGGAGTTGGAGTAGATGATGTGTTTCTCCTCGCCCATGCCTTCAGTGAGACCGGGCAAAACAAGAGGATCCCATTCGAGGATCGCACGGGGGAGTGTCTGAAGAGGACAGGGGCCAGTGTGGCTCTTACCTCCATCAGCAACGTCACAGCATTCTTCATGGCAGCGCTCATCCCCATCCCAGCGCTCAGAGCCTTTTCTCTACAGGCTGCAGTGGTGGTGGTGTTTAACTTTGCCATGGTACTGCTCATCTTTCCTGCCATCCTCAGCATGGATCTCTATCGGCGAGAGGACAGGCGTTTTGACATTTTCTGCTGCTTCTACAGCCCTTGTTCCAATCGTGTGATTCAGATAGAGCCACAGGCGTACCTGGATGGGACAGAAGGGAGTCGCTACAGCCCTTCCCCGTCATATCGTACCCCTCCTCCCTCATATCACATGCCTCCCCCAAGCTACAGCAGTCCCCCTCCTTCCTACAGTAGCCATGGTTTTGCTCAGCAGACCCAAATCACTATGCAGTCCACAGTGCAGCTCAGGACGGAGTACGACCCCCGAACTCAGGCCTTCTACACCACAGCTGAGCCCAGATCCCAAATCTCTGTGCAGCCCATCAACCCAGCTCCAGCTAGGACCAACCGTAACAACGAGTATTACAGTAGCAGCAATCACGCCAACATCAGCAACAACAACAACAGTGGGGGCTTGAATAATGGGGGGTCTCGAGGTTCTGCCAGCTTCTCCCATCATCATCATCCCGCACCTCCTCCTGCTGCATCGACCCCAAGTGCTAGCTCAGTTGCTCAGGGTGATGGAGCCTCATCGACTGGCCAGAGTCCAGAGAACAACAGCTCCACACGGGACCTGTTGTCCCAGATTGGAGAAGCCTCGCTGGGCCTACGCTGCCTCAAGCCCCCCTGCTCGCGCTGGACCCTGGCCTCTTTTGCTGAGAAGCACTATGCGCCATTCCTTCTGCAGCCCACCACCAAGGTGGTTGTGATTGTGCTGTTCCTCTGCCTGCTGGGAGTCAGTTTATACGGGACCACCCAAGTGAGGGACGGCCTGGAGCTGACAGATATTGTACCAAGGGAGACAAGCGAGTACGACTTTCTCGGCGCCCAGTTCAAGTTCTTCTCCTTCTACAACATGTATGTGGTAACACAGCGCGCCGATTATGCTCAAAACCAGCCACTGCTTCACCAGCTCCACCAGAGGTTCCACACCATTCGCTACGTGCTG\n"
     ]
    }
   ],
   "source": [
    "from Bio import SeqIO\n",
    "\n",
    "GoI = \"Ptch1\"\n",
    "\n",
    "for genome in SeqIO.parse(\"Maylandia zebra Ptch1.gbk\",\"genbank\"):\n",
    "    for gene in genome.features:\n",
    "        if gene.type != \"CDS\":\n",
    "            continue\n",
    "        if \"gene\" not in gene.qualifiers:\n",
    "            continue\n",
    "        if GoI not in gene.qualifiers[\"gene\"][0]: \n",
    "            continue\n",
    "        gene_seq = gene.extract(genome.seq)\n",
    "\n",
    "GoI_fasta = \">%s|%s\\n%s\" % (GoI, genome.description, gene_seq)\n",
    "print(GoI_fasta)"
   ]
  },
  {
   "cell_type": "code",
   "execution_count": 10,
   "id": "3de660e7-a2bb-4c0f-a65d-5d7dac0b06b7",
   "metadata": {},
   "outputs": [],
   "source": [
    "from Bio import SeqIO\n",
    "\n",
    "GoI = \"Ptch1\"\n",
    "\n",
    "for genome in SeqIO.parse(\"Maylandia zebra Ptch1.gbk\",\"genbank\"):\n",
    "    for gene in genome.features:\n",
    "        if gene.type != \"CDS\":\n",
    "            continue\n",
    "        if \"gene\" not in gene.qualifiers:\n",
    "            continue\n",
    "        if GoI not in gene.qualifiers[\"gene\"][0]: \n",
    "            continue\n",
    "        gene_seq = gene.extract(genome.seq)\n",
    "\n",
    "GoI_fasta = \">%s|%s\\n%s\" % (GoI, genome.description, gene_seq)\n",
    "with open(\"GoI_fasta.fasta\",\"w\") as f:\n",
    "    f.write(GoI_fasta)"
   ]
  },
  {
   "cell_type": "code",
   "execution_count": null,
   "id": "929e3355-0325-4fb4-af35-804719ae614f",
   "metadata": {},
   "outputs": [],
   "source": []
  }
 ],
 "metadata": {
  "kernelspec": {
   "display_name": "Python 3 (ipykernel)",
   "language": "python",
   "name": "python3"
  },
  "language_info": {
   "codemirror_mode": {
    "name": "ipython",
    "version": 3
   },
   "file_extension": ".py",
   "mimetype": "text/x-python",
   "name": "python",
   "nbconvert_exporter": "python",
   "pygments_lexer": "ipython3",
   "version": "3.9.7"
  }
 },
 "nbformat": 4,
 "nbformat_minor": 5
}
